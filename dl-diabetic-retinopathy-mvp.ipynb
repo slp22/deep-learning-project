{
 "cells": [
  {
   "cell_type": "markdown",
   "id": "74975ac3",
   "metadata": {},
   "source": [
    "#### Deep Learning | MVP\n",
    "\n",
    "# Diabetic Retinopathy<a id='top'></a> "
   ]
  },
  {
   "cell_type": "markdown",
   "id": "ea017a0f",
   "metadata": {},
   "source": [
    "## **Analysis Goal**  \n",
    "The client, ...\n",
    "\n",
    "**RQ:** ? \n",
    "\n",
    "## **Process**\n",
    "**Data source:** \n",
    "\n",
    "\n",
    "**Models:** \n",
    "\n",
    "\n",
    "## **Preliminary Conclusions**\n"
   ]
  },
  {
   "cell_type": "code",
   "execution_count": 2,
   "id": "64179b94",
   "metadata": {},
   "outputs": [
    {
     "name": "stdout",
     "output_type": "stream",
     "text": [
      "TensorFlow version: 2.4.1\n"
     ]
    }
   ],
   "source": [
    "import matplotlib.pyplot as plt\n",
    "import numpy as np\n",
    "import pandas as pd\n",
    "import pickle\n",
    "import tensorflow as tf\n",
    "print(\"TensorFlow version:\", tf.__version__)\n",
    "\n",
    "from tensorflow.keras.layers import Dense, Flatten, Conv2D\n",
    "from tensorflow.keras import Model\n",
    "from PIL import Image\n",
    "\n",
    "# import seaborn as sns\n",
    "pd.set_option('display.max_colwidth', None)\n",
    "%matplotlib inline\n",
    "%config InlineBackend.figure_formats = ['retina']  # or svg\n",
    "# sns.set(context='notebook', style='whitegrid')\n",
    "\n",
    "# from sklearn.linear_model import LogisticRegression\n",
    "# from sklearn.metrics import confusion_matrix, accuracy_score\n",
    "# from sklearn.model_selection import train_test_split\n"
   ]
  },
  {
   "cell_type": "markdown",
   "id": "d38894c8",
   "metadata": {},
   "source": [
    "## 1 | Dataset: [Diabetic Retinopathy Retinal Images](https://www.kaggle.com/datasets/sachinkumar413/diabetic-retinopathy-preprocessed-dataset)<a id='1'></a>  "
   ]
  },
  {
   "cell_type": "code",
   "execution_count": null,
   "id": "dba5d779",
   "metadata": {},
   "outputs": [],
   "source": [
    "# https://keras.io/api/preprocessing/image/"
   ]
  },
  {
   "cell_type": "code",
   "execution_count": 20,
   "id": "04ba1861",
   "metadata": {},
   "outputs": [
    {
     "name": "stdout",
     "output_type": "stream",
     "text": [
      "type: <class 'PIL.Image.Image'>\n"
     ]
    },
    {
     "data": {
      "image/png": "[encoded data removed]",
      "text/plain": [
       "<PIL.Image.Image image mode=RGB size=256x256>"
      ]
     },
     "execution_count": 20,
     "metadata": {},
     "output_type": "execute_result"
    }
   ],
   "source": [
    "# import one image\n",
    "\n",
    "path = '/Users/sandraparedes/Documents/GitHub/metis_dsml/g06_deep-learning/g00-deep-learning-project/Mild DR_2 copy.jpg'\n",
    "\n",
    "test_image = tf.keras.preprocessing.image.load_img(\n",
    "    path, \n",
    "    grayscale=False, \n",
    "    color_mode=\"rgb\", \n",
    "    target_size=(256, 256), \n",
    "    interpolation=\"nearest\")\n",
    "\n",
    "print('type:', type(test_image))\n",
    "test_image \n"
   ]
  },
  {
   "cell_type": "code",
   "execution_count": 25,
   "id": "d96b277f",
   "metadata": {},
   "outputs": [
    {
     "name": "stdout",
     "output_type": "stream",
     "text": [
      "type: <class 'numpy.ndarray'>\n"
     ]
    },
    {
     "data": {
      "text/plain": [
       "array([[[0., 0., 0.],\n",
       "        [0., 0., 0.],\n",
       "        [0., 0., 0.],\n",
       "        ...,\n",
       "        [0., 0., 0.],\n",
       "        [0., 0., 0.],\n",
       "        [0., 0., 0.]],\n",
       "\n",
       "       [[0., 0., 0.],\n",
       "        [0., 0., 0.],\n",
       "        [0., 0., 0.],\n",
       "        ...,\n",
       "        [0., 0., 0.],\n",
       "        [0., 0., 0.],\n",
       "        [0., 0., 0.]],\n",
       "\n",
       "       [[0., 0., 0.],\n",
       "        [0., 0., 0.],\n",
       "        [0., 0., 0.],\n",
       "        ...,\n",
       "        [0., 0., 0.],\n",
       "        [0., 0., 0.],\n",
       "        [0., 0., 0.]],\n",
       "\n",
       "       ...,\n",
       "\n",
       "       [[0., 0., 0.],\n",
       "        [0., 0., 0.],\n",
       "        [0., 0., 0.],\n",
       "        ...,\n",
       "        [0., 0., 0.],\n",
       "        [0., 0., 0.],\n",
       "        [0., 0., 0.]],\n",
       "\n",
       "       [[0., 0., 0.],\n",
       "        [0., 0., 0.],\n",
       "        [0., 0., 0.],\n",
       "        ...,\n",
       "        [0., 0., 0.],\n",
       "        [0., 0., 0.],\n",
       "        [0., 0., 0.]],\n",
       "\n",
       "       [[0., 0., 0.],\n",
       "        [0., 0., 0.],\n",
       "        [0., 0., 0.],\n",
       "        ...,\n",
       "        [0., 0., 0.],\n",
       "        [0., 0., 0.],\n",
       "        [0., 0., 0.]]], dtype=float32)"
      ]
     },
     "execution_count": 25,
     "metadata": {},
     "output_type": "execute_result"
    }
   ],
   "source": [
    "# convert image to numpy array\n",
    "\n",
    "img = test_image\n",
    "test_image_array = tf.keras.preprocessing.image.img_to_array(img, data_format=None, dtype=None)\n",
    "\n",
    "print('type:', type(test_image_array))\n",
    "test_image_array"
   ]
  },
  {
   "cell_type": "code",
   "execution_count": 38,
   "id": "9f7e56c8",
   "metadata": {},
   "outputs": [
    {
     "name": "stdout",
     "output_type": "stream",
     "text": [
      "Found 13970 files belonging to 5 classes.\n",
      "type: <class 'tensorflow.python.data.ops.dataset_ops.BatchDataset'>\n"
     ]
    },
    {
     "data": {
      "text/plain": [
       "<BatchDataset shapes: ((None, 256, 256, 3), (None,)), types: (tf.float32, tf.int32)>"
      ]
     },
     "execution_count": 38,
     "metadata": {},
     "output_type": "execute_result"
    }
   ],
   "source": [
    "# read in all images\n",
    "\n",
    "# https://keras.io/api/preprocessing/image/\n",
    "\n",
    "directory = '/Users/sandraparedes/Documents/GitHub/metis_dsml/g06_deep-learning/raw data diabetic-retinopathy'\n",
    "\n",
    "data = tf.keras.preprocessing.image_dataset_from_directory(\n",
    "    directory,\n",
    "    labels=\"inferred\",\n",
    "    label_mode=\"int\",\n",
    "    class_names=None,\n",
    "    color_mode=\"rgb\",\n",
    "    batch_size=32,\n",
    "    image_size=(256, 256),\n",
    "    shuffle=True,\n",
    "    seed=None,\n",
    "    validation_split=None,\n",
    "    subset=None,\n",
    "    interpolation=\"bilinear\",\n",
    "    follow_links=False,\n",
    "#     crop_to_aspect_ratio=True,\n",
    "#     **kwargs\n",
    ")\n",
    "\n",
    "print('type:', type(data))\n",
    "data"
   ]
  },
  {
   "cell_type": "code",
   "execution_count": null,
   "id": "f2cc115c",
   "metadata": {},
   "outputs": [],
   "source": [
    "# https://www.tensorflow.org/jvm/api_docs/java/org/tensorflow/op/data/BatchDataset"
   ]
  },
  {
   "cell_type": "markdown",
   "id": "678fce99",
   "metadata": {},
   "source": [
    "## 2 | Exploratory Data Analysis<a id='2'></a>  "
   ]
  },
  {
   "cell_type": "markdown",
   "id": "8128717a",
   "metadata": {},
   "source": [
    "### Data Selection <a id='2'></a>  "
   ]
  },
  {
   "cell_type": "code",
   "execution_count": null,
   "id": "3795948c",
   "metadata": {},
   "outputs": [],
   "source": []
  },
  {
   "cell_type": "code",
   "execution_count": null,
   "id": "0b578af3",
   "metadata": {},
   "outputs": [],
   "source": [
    "# # pickle?\n",
    "# tweet_df = eng_us_df \n",
    "# tweet_df.to_pickle('./raw_data/tweet_df.pkl')\n",
    "# tweet_df.to_csv(r'//Users/sandraparedes/Documents/GitHub/metis_dsml/05_nlp/g00-nlp-project/raw_data/tweet_df.csv', index=False)\n"
   ]
  },
  {
   "cell_type": "markdown",
   "id": "3233740c",
   "metadata": {},
   "source": [
    "### Preprocessing<a id='tp'></a>  "
   ]
  },
  {
   "cell_type": "code",
   "execution_count": null,
   "id": "c61163bf",
   "metadata": {},
   "outputs": [],
   "source": [
    "# read in pickle?\n",
    "# df = pd.read_csv('./raw_data/tweet_df.csv', low_memory=False)\n",
    "# df.head(2)"
   ]
  },
  {
   "cell_type": "code",
   "execution_count": null,
   "id": "f83363ab",
   "metadata": {},
   "outputs": [],
   "source": []
  }
 ],
 "metadata": {
  "kernelspec": {
   "display_name": "Python 3 (deep_learning)",
   "language": "python",
   "name": "deep_learning"
  },
  "language_info": {
   "codemirror_mode": {
    "name": "ipython",
    "version": 3
   },
   "file_extension": ".py",
   "mimetype": "text/x-python",
   "name": "python",
   "nbconvert_exporter": "python",
   "pygments_lexer": "ipython3",
   "version": "3.8.12"
  },
  "widgets": {
   "application/vnd.jupyter.widget-state+json": {
    "state": {},
    "version_major": 2,
    "version_minor": 0
   }
  }
 },
 "nbformat": 4,
 "nbformat_minor": 5
}
