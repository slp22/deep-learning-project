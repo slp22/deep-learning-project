{
  "cells": [
    {
      "cell_type": "markdown",
      "metadata": {
        "id": "view-in-github",
        "colab_type": "text"
      },
      "source": [
        "<a href=\"https://colab.research.google.com/github/slp22/deep-learning-project/blob/main/dl_diabetic_retinopathy_mvp.ipynb\" target=\"_parent\"><img src=\"https://colab.research.google.com/assets/colab-badge.svg\" alt=\"Open In Colab\"/></a>"
      ]
    },
    {
      "cell_type": "markdown",
      "id": "74975ac3",
      "metadata": {
        "id": "74975ac3"
      },
      "source": [
        "#### Deep Learning | MVP\n",
        "\n",
        "# Diabetic Retinopathy<a id='top'></a> "
      ]
    },
    {
      "cell_type": "markdown",
      "id": "ea017a0f",
      "metadata": {
        "id": "ea017a0f"
      },
      "source": [
        "## **Analysis Goal**  \n",
        "The client, ...\n",
        "\n",
        "**RQ:** ? \n",
        "\n",
        "## **Process**\n",
        "**Data source:** \n",
        "\n",
        "\n",
        "**Models:** \n",
        "\n",
        "\n",
        "## **Preliminary Conclusions**\n"
      ]
    },
    {
      "cell_type": "code",
      "source": [
        "from google.colab import drive\n",
        "drive.mount('/content/drive')"
      ],
      "metadata": {
        "colab": {
          "base_uri": "https://localhost:8080/"
        },
        "id": "GXLwZ2Vnn7ge",
        "outputId": "caaa77a8-6dc7-4a00-9d76-bf54daa75c97"
      },
      "id": "GXLwZ2Vnn7ge",
      "execution_count": 1,
      "outputs": [
        {
          "output_type": "stream",
          "name": "stdout",
          "text": [
            "Drive already mounted at /content/drive; to attempt to forcibly remount, call drive.mount(\"/content/drive\", force_remount=True).\n"
          ]
        }
      ]
    },
    {
      "cell_type": "code",
      "execution_count": 50,
      "id": "64179b94",
      "metadata": {
        "colab": {
          "base_uri": "https://localhost:8080/"
        },
        "id": "64179b94",
        "outputId": "0bb2a803-6b14-4ff2-9e47-3149cf4896eb"
      },
      "outputs": [
        {
          "output_type": "stream",
          "name": "stdout",
          "text": [
            "TensorFlow version: 2.8.2\n",
            "Pandas version: 1.3.5\n",
            "Numpy version: 1.21.6\n"
          ]
        }
      ],
      "source": [
        "import matplotlib.pyplot as plt\n",
        "import numpy as np\n",
        "import os\n",
        "import pandas as pd\n",
        "import pickle\n",
        "import tensorflow as tf\n",
        "import zipfile\n",
        "print(\"TensorFlow version:\", tf.__version__)\n",
        "print(\"Pandas version:\", pd.__version__)\n",
        "print(\"Numpy version:\", np.__version__)\n",
        "\n",
        "from tensorflow.keras.layers import Dense, Flatten, Conv2D\n",
        "from tensorflow.keras import Model\n",
        "from PIL import Image\n",
        "\n",
        "# import seaborn as sns\n",
        "pd.set_option('display.max_colwidth', None)\n",
        "%matplotlib inline\n",
        "%config InlineBackend.figure_formats = ['retina']  # or svg\n",
        "# sns.set(context='notebook', style='whitegrid')\n",
        "\n",
        "# from sklearn.linear_model import LogisticRegression\n",
        "# from sklearn.metrics import confusion_matrix, accuracy_score\n",
        "# from sklearn.model_selection import train_test_split\n"
      ]
    },
    {
      "cell_type": "markdown",
      "id": "d38894c8",
      "metadata": {
        "id": "d38894c8"
      },
      "source": [
        "## 1 | Dataset: [Diabetic Retinopathy Retinal Images](https://www.kaggle.com/datasets/sachinkumar413/diabetic-retinopathy-preprocessed-dataset)<a id='1'></a>  "
      ]
    },
    {
      "cell_type": "code",
      "source": [
        "# unzip raw data file from Google Drive\n",
        "\n",
        "zip_ref = zipfile.ZipFile('/content/drive/MyDrive/DR_raw_data.zip', 'r') #Opens the zip file in read mode\n",
        "zip_ref.extractall('/tmp') #Extracts the files into the /tmp folder\n",
        "zip_ref.close()"
      ],
      "metadata": {
        "id": "O1bC08mpolaS"
      },
      "id": "O1bC08mpolaS",
      "execution_count": 17,
      "outputs": []
    },
    {
      "cell_type": "code",
      "execution_count": 42,
      "id": "04ba1861",
      "metadata": {
        "id": "04ba1861",
        "colab": {
          "base_uri": "https://localhost:8080/",
          "height": 181
        },
        "outputId": "3baf12f8-6c45-46ad-9115-75650e35ef49"
      },
      "outputs": [
        {
          "output_type": "stream",
          "name": "stdout",
          "text": [
            "Healthy Eye\n",
            "type: <class 'PIL.JpegImagePlugin.JpegImageFile'>\n"
          ]
        },
        {
          "output_type": "execute_result",
          "data": {
            "text/plain": [
              "<PIL.JpegImagePlugin.JpegImageFile image mode=RGB size=128x128 at 0x7FCEAF89DC90>"
            ],
            "image/png": "[encoded data removed]"
          },
          "metadata": {},
          "execution_count": 42
        }
      ],
      "source": [
        "# import one healthy image\n",
        "\n",
        "path = '/tmp/raw-data/No DR/No DR.jpg'\n",
        "\n",
        "healthy_image = tf.keras.preprocessing.image.load_img(\n",
        "   path)\n",
        "  #  grayscale=False, \n",
        "  #  color_mode=\"rgb\", \n",
        "  #  target_size=(256, 256), \n",
        "  #  interpolation=\"nearest\")\n",
        "print('Healthy Eye')\n",
        "print('type:', type(healthy_image))\n",
        "healthy_image \n"
      ]
    },
    {
      "cell_type": "code",
      "execution_count": 43,
      "metadata": {
        "colab": {
          "base_uri": "https://localhost:8080/",
          "height": 181
        },
        "outputId": "7422fdb3-ffb3-4054-ae54-68c30e37a008",
        "id": "k5A04gNF9mYS"
      },
      "outputs": [
        {
          "output_type": "stream",
          "name": "stdout",
          "text": [
            "Severe Diabetic Retinopthy\n",
            "type: <class 'PIL.JpegImagePlugin.JpegImageFile'>\n"
          ]
        },
        {
          "output_type": "execute_result",
          "data": {
            "text/plain": [
              "<PIL.JpegImagePlugin.JpegImageFile image mode=RGB size=128x128 at 0x7FCEAF8A2810>"
            ],
            "image/png": "[encoded data removed]"
          },
          "metadata": {},
          "execution_count": 43
        }
      ],
      "source": [
        "# import one severe DR image\n",
        "\n",
        "path = '/tmp/raw-data/Severe DR/Severe DR.jpg'\n",
        "\n",
        "severe_image = tf.keras.preprocessing.image.load_img(\n",
        "   path)\n",
        "  #  grayscale=False, \n",
        "  #  color_mode=\"rgb\", \n",
        "  #  target_size=(256, 256), \n",
        "  #  interpolation=\"nearest\")\n",
        "\n",
        "print('Severe Diabetic Retinopthy')\n",
        "print('type:', type(severe_image))\n",
        "severe_image \n"
      ],
      "id": "k5A04gNF9mYS"
    },
    {
      "cell_type": "markdown",
      "source": [
        "After EDA, import images ..."
      ],
      "metadata": {
        "id": "Vhvh_WC0_9cb"
      },
      "id": "Vhvh_WC0_9cb"
    },
    {
      "cell_type": "code",
      "execution_count": 40,
      "id": "9f7e56c8",
      "metadata": {
        "id": "9f7e56c8",
        "outputId": "cb7f1393-0423-4771-f6f3-29628eab1875",
        "colab": {
          "base_uri": "https://localhost:8080/"
        }
      },
      "outputs": [
        {
          "output_type": "stream",
          "name": "stdout",
          "text": [
            "Found 13970 files belonging to 5 classes.\n",
            "type: <class 'tensorflow.python.data.ops.dataset_ops.BatchDataset'> \n",
            "\n"
          ]
        },
        {
          "output_type": "execute_result",
          "data": {
            "text/plain": [
              "<BatchDataset element_spec=(TensorSpec(shape=(None, 256, 256, 3), dtype=tf.float32, name=None), TensorSpec(shape=(None,), dtype=tf.int32, name=None))>"
            ]
          },
          "metadata": {},
          "execution_count": 40
        }
      ],
      "source": [
        "# read in all images\n",
        "# https://keras.io/api/preprocessing/image/\n",
        "\n",
        "directory = '/tmp/raw-data'\n",
        "data = tf.keras.preprocessing.image_dataset_from_directory(\n",
        "    directory,\n",
        "    labels=\"inferred\",\n",
        "    label_mode=\"int\",\n",
        "    class_names=None,\n",
        "    color_mode=\"rgb\",\n",
        "    batch_size=32,\n",
        "    image_size=(256, 256),\n",
        "    shuffle=True,\n",
        "    seed=None,\n",
        "    validation_split=None,\n",
        "    subset=None,\n",
        "    interpolation=\"bilinear\",\n",
        "    follow_links=False,\n",
        "    crop_to_aspect_ratio=True)\n",
        "\n",
        "print('type:', type(data), '\\n')\n",
        "\n",
        "data"
      ]
    },
    {
      "cell_type": "code",
      "source": [
        "# https://www.tensorflow.org/jvm/api_docs/java/org/tensorflow/op/data/BatchDataset\n",
        "\n",
        "# convert healthy_image to numpy array\n",
        "\n",
        "img = healthy_image\n",
        "healthy_image_array = tf.keras.preprocessing.image.img_to_array(img, \n",
        "                                                                data_format=None, \n",
        "                                                                dtype=None)\n",
        "print('type:', type(healthy_image_array))\n",
        "healthy_image_array"
      ],
      "metadata": {
        "colab": {
          "base_uri": "https://localhost:8080/"
        },
        "outputId": "7cf5f476-b1f6-4f51-f8ea-1955bf3d11dc",
        "id": "7vb__HX4Abpq"
      },
      "execution_count": 49,
      "outputs": [
        {
          "output_type": "stream",
          "name": "stdout",
          "text": [
            "type: <class 'numpy.ndarray'>\n"
          ]
        },
        {
          "output_type": "execute_result",
          "data": {
            "text/plain": [
              "array([[[0., 0., 0.],\n",
              "        [0., 0., 0.],\n",
              "        [0., 0., 0.],\n",
              "        ...,\n",
              "        [0., 0., 0.],\n",
              "        [0., 0., 0.],\n",
              "        [0., 0., 0.]],\n",
              "\n",
              "       [[0., 0., 0.],\n",
              "        [0., 0., 0.],\n",
              "        [0., 0., 0.],\n",
              "        ...,\n",
              "        [0., 0., 0.],\n",
              "        [0., 0., 0.],\n",
              "        [0., 0., 0.]],\n",
              "\n",
              "       [[0., 0., 0.],\n",
              "        [0., 0., 0.],\n",
              "        [0., 0., 0.],\n",
              "        ...,\n",
              "        [0., 0., 0.],\n",
              "        [0., 0., 0.],\n",
              "        [0., 0., 0.]],\n",
              "\n",
              "       ...,\n",
              "\n",
              "       [[0., 0., 0.],\n",
              "        [0., 0., 0.],\n",
              "        [0., 0., 0.],\n",
              "        ...,\n",
              "        [0., 0., 0.],\n",
              "        [0., 0., 0.],\n",
              "        [0., 0., 0.]],\n",
              "\n",
              "       [[0., 0., 0.],\n",
              "        [0., 0., 0.],\n",
              "        [0., 0., 0.],\n",
              "        ...,\n",
              "        [0., 0., 0.],\n",
              "        [0., 0., 0.],\n",
              "        [0., 0., 0.]],\n",
              "\n",
              "       [[0., 0., 0.],\n",
              "        [0., 0., 0.],\n",
              "        [0., 0., 0.],\n",
              "        ...,\n",
              "        [0., 0., 0.],\n",
              "        [0., 0., 0.],\n",
              "        [0., 0., 0.]]], dtype=float32)"
            ]
          },
          "metadata": {},
          "execution_count": 49
        }
      ],
      "id": "7vb__HX4Abpq"
    },
    {
      "cell_type": "code",
      "source": [
        ""
      ],
      "metadata": {
        "id": "IiuydYGr9lzS"
      },
      "id": "IiuydYGr9lzS",
      "execution_count": null,
      "outputs": []
    },
    {
      "cell_type": "code",
      "source": [
        ""
      ],
      "metadata": {
        "id": "2iE9kZqJ9lnm"
      },
      "id": "2iE9kZqJ9lnm",
      "execution_count": null,
      "outputs": []
    },
    {
      "cell_type": "code",
      "source": [
        ""
      ],
      "metadata": {
        "id": "qzw_uBNC9l64"
      },
      "id": "qzw_uBNC9l64",
      "execution_count": null,
      "outputs": []
    },
    {
      "cell_type": "code",
      "source": [
        ""
      ],
      "metadata": {
        "id": "FUExVPfs9kwx"
      },
      "id": "FUExVPfs9kwx",
      "execution_count": null,
      "outputs": []
    },
    {
      "cell_type": "code",
      "execution_count": null,
      "id": "f2cc115c",
      "metadata": {
        "id": "f2cc115c"
      },
      "outputs": [],
      "source": [
        ""
      ]
    },
    {
      "cell_type": "code",
      "source": [
        ""
      ],
      "metadata": {
        "id": "BisOPvCeolkp"
      },
      "id": "BisOPvCeolkp",
      "execution_count": null,
      "outputs": []
    },
    {
      "cell_type": "code",
      "source": [
        ""
      ],
      "metadata": {
        "id": "koLm9q-AolnP"
      },
      "id": "koLm9q-AolnP",
      "execution_count": null,
      "outputs": []
    },
    {
      "cell_type": "code",
      "source": [
        ""
      ],
      "metadata": {
        "id": "8ZOqJuHyolqG"
      },
      "id": "8ZOqJuHyolqG",
      "execution_count": null,
      "outputs": []
    },
    {
      "cell_type": "code",
      "source": [
        ""
      ],
      "metadata": {
        "id": "is9JOPkZolth"
      },
      "id": "is9JOPkZolth",
      "execution_count": null,
      "outputs": []
    },
    {
      "cell_type": "markdown",
      "id": "678fce99",
      "metadata": {
        "id": "678fce99"
      },
      "source": [
        "## 2 | Exploratory Data Analysis<a id='2'></a>  "
      ]
    },
    {
      "cell_type": "markdown",
      "id": "8128717a",
      "metadata": {
        "id": "8128717a"
      },
      "source": [
        "### Data Selection <a id='2'></a>  "
      ]
    },
    {
      "cell_type": "code",
      "execution_count": null,
      "id": "0b578af3",
      "metadata": {
        "id": "0b578af3"
      },
      "outputs": [],
      "source": [
        "# pickle\n"
      ]
    },
    {
      "cell_type": "code",
      "execution_count": null,
      "id": "3795948c",
      "metadata": {
        "id": "3795948c"
      },
      "outputs": [],
      "source": [
        ""
      ]
    },
    {
      "cell_type": "markdown",
      "id": "3233740c",
      "metadata": {
        "id": "3233740c"
      },
      "source": [
        "### Preprocessing<a id='tp'></a>  "
      ]
    },
    {
      "cell_type": "code",
      "execution_count": null,
      "id": "c61163bf",
      "metadata": {
        "id": "c61163bf"
      },
      "outputs": [],
      "source": [
        "# read in pickle\n"
      ]
    },
    {
      "cell_type": "code",
      "execution_count": null,
      "id": "f83363ab",
      "metadata": {
        "id": "f83363ab"
      },
      "outputs": [],
      "source": [
        ""
      ]
    }
  ],
  "metadata": {
    "kernelspec": {
      "display_name": "Python 3 (deep_learning)",
      "language": "python",
      "name": "deep_learning"
    },
    "language_info": {
      "codemirror_mode": {
        "name": "ipython",
        "version": 3
      },
      "file_extension": ".py",
      "mimetype": "text/x-python",
      "name": "python",
      "nbconvert_exporter": "python",
      "pygments_lexer": "ipython3",
      "version": "3.8.12"
    },
    "colab": {
      "name": "dl-diabetic-retinopathy-mvp.ipynb",
      "provenance": [],
      "collapsed_sections": [],
      "include_colab_link": true
    },
    "gpuClass": "standard"
  },
  "nbformat": 4,
  "nbformat_minor": 5
}