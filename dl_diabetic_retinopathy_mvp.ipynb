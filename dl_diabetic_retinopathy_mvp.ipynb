{
  "cells": [
    {
      "cell_type": "markdown",
      "metadata": {
        "id": "view-in-github",
        "colab_type": "text"
      },
      "source": [
        "<a href=\"https://colab.research.google.com/github/slp22/deep-learning-project/blob/main/dl_diabetic_retinopathy_mvp.ipynb\" target=\"_parent\"><img src=\"https://colab.research.google.com/assets/colab-badge.svg\" alt=\"Open In Colab\"/></a>"
      ]
    },
    {
      "cell_type": "markdown",
      "metadata": {
        "id": "74975ac3"
      },
      "source": [
        "#### Deep Learning | MVP\n",
        "\n",
        "# Diabetic Retinopathy<a id='top'></a> "
      ],
      "id": "74975ac3"
    },
    {
      "cell_type": "markdown",
      "metadata": {
        "id": "ea017a0f"
      },
      "source": [
        "## **Analysis Goal**  \n",
        "The client, the [National Eye Institute](https://www.nei.nih.gov/), part of the National Institutes of Health, wants a model that can quickly identify [diabetic retinopathy](https://www.nei.nih.gov/learn-about-eye-health/eye-conditions-and-diseases/diabetic-retinopathy) in patients participating in early phase clinical trials.\n",
        "\n",
        "**RQ:** How well can a neural network diagnose diabetic retinopathy from a retinal image?\n",
        "\n",
        "## **Process**\n",
        "**Data source:** [Diabetic Retinopathy](https://www.kaggle.com/datasets/sovitrath/diabetic-retinopathy-2015-data-colored-resized)retinal images at various stages of the disease, modified from the [Diabetic Retinopathy Detection Kaggle Competition](https://www.kaggle.com/c/diabetic-retinopathy-detection); images are courtesy of [EyePACS](http://eyepacs.com/),a free platform for retinopathy screening. The dataset (n=35,126) is classified as:  \n",
        "  0 - No_DR (healthy eye)\n",
        "  1 - Mild\n",
        "  2 - Moderate\n",
        "  3 - Severe\n",
        "  4 - Proliferate_DR\n",
        "\n",
        "**Error Metric:** Accuracy (for MVP), precision and recall (for final model)\n",
        "\n",
        "**Base Model:** \n",
        "  * First iteration deep learning model:\n",
        "    * accuracy: 0.1530\n",
        "    * val_accuracy: 0.1550\n",
        "\n",
        "## **Preliminary Conclusions**\n",
        "The model with 5 epochs does not perform well. \n",
        "\n",
        "The next step for this analysis is to run the model with more epochs; and use transfer learning to improve the performance. "
      ],
      "id": "ea017a0f"
    },
    {
      "cell_type": "markdown",
      "source": [
        "## Imports"
      ],
      "metadata": {
        "id": "HYTw2GEqeY6s"
      },
      "id": "HYTw2GEqeY6s"
    },
    {
      "cell_type": "code",
      "execution_count": 13,
      "metadata": {
        "colab": {
          "base_uri": "https://localhost:8080/"
        },
        "id": "64179b94",
        "outputId": "71a3e0f2-9c5a-470c-b983-41415f6b7779"
      },
      "outputs": [
        {
          "output_type": "stream",
          "name": "stdout",
          "text": [
            "Populating the interactive namespace from numpy and matplotlib\n",
            "Num GPUs Available:  1\n",
            "Matplotlib version: 3.2.2\n",
            "Numpy version: 1.21.6\n",
            "Pandas version: 1.3.5\n",
            "TensorFlow version: 2.8.2\n",
            "Keras Version: 2.8.0\n",
            "Scikit-learn version: 1.0.2\n"
          ]
        }
      ],
      "source": [
        "import cv2\n",
        "import matplotlib.pyplot as plt\n",
        "import numpy as np\n",
        "import os, shutil\n",
        "import pandas as pd\n",
        "import pickle\n",
        "import PIL\n",
        "import random\n",
        "import seaborn as sns\n",
        "import shutil\n",
        "import sklearn as sk\n",
        "import tensorflow as tf\n",
        "from tqdm import tqdm\n",
        "import warnings\n",
        "\n",
        "from glob import glob\n",
        "from tensorflow import keras\n",
        "from keras import backend as K\n",
        "from keras.layers import Conv2D, MaxPooling2D\n",
        "from keras.layers import Activation, Dropout, Flatten, Dense\n",
        "from keras.models import Sequential\n",
        "from keras.preprocessing import image as IMG\n",
        "from keras.preprocessing.image import ImageDataGenerator\n",
        "# from keras.utils import to_categorical\n",
        "\n",
        "from PIL import Image\n",
        "from sklearn.linear_model import LogisticRegression\n",
        "from sklearn.metrics import confusion_matrix, accuracy_score\n",
        "from sklearn.model_selection import train_test_split\n",
        "\n",
        "%pylab inline\n",
        "%matplotlib inline\n",
        "%config InlineBackend.figure_formats = ['retina']  # or svg\n",
        "pd.set_option('display.max_colwidth', None)\n",
        "sns.set(context='notebook', style='whitegrid')\n",
        "warnings.filterwarnings('ignore')\n",
        "\n",
        "print(\"Num GPUs Available: \", len(tf.config.list_physical_devices('GPU')))\n",
        "print(\"Matplotlib version:\", matplotlib.__version__)\n",
        "print(\"Numpy version:\", np.__version__)\n",
        "print(\"Pandas version:\", pd.__version__)\n",
        "print(\"TensorFlow version:\", tf.__version__)\n",
        "print(\"Keras Version:\", tf.keras.__version__)\n",
        "print(\"Scikit-learn version:\", sk.__version__)\n"
      ],
      "id": "64179b94"
    },
    {
      "cell_type": "markdown",
      "metadata": {
        "id": "d38894c8"
      },
      "source": [
        "## 1 | Dataset: [Diabetic Retinopathy Retinal Images](https://www.kaggle.com/datasets/sovitrath/diabetic-retinopathy-2015-data-colored-resized)"
      ],
      "id": "d38894c8"
    },
    {
      "cell_type": "markdown",
      "source": [
        "Code adapted from [github/PurpleGrace](https://github.com/PurpleGrace/Deep_Learning_Tools_Image_Classification/blob/main/code/1.EDA_Sample_Images.ipynb)\n"
      ],
      "metadata": {
        "id": "8Xw-Rr1OkC8R"
      },
      "id": "8Xw-Rr1OkC8R"
    },
    {
      "cell_type": "code",
      "source": [
        "from google.colab import files\n",
        "files.upload()"
      ],
      "metadata": {
        "colab": {
          "resources": {
            "http://localhost:8080/nbextensions/google.colab/files.js": {
              "data": "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",
              "ok": true,
              "headers": [
                [
                  "content-type",
                  "application/javascript"
                ]
              ],
              "status": 200,
              "status_text": ""
            }
          },
          "base_uri": "https://localhost:8080/",
          "height": 96
        },
        "id": "3uJyuCs9jkJ7",
        "outputId": "62439272-34db-441b-8851-1ad8f6a7a68e"
      },
      "id": "3uJyuCs9jkJ7",
      "execution_count": 2,
      "outputs": [
        {
          "output_type": "display_data",
          "data": {
            "text/plain": [
              "<IPython.core.display.HTML object>"
            ],
            "text/html": [
              "\n",
              "     <input type=\"file\" id=\"files-0e9b41dc-68b5-479b-bdd0-1fc959409463\" name=\"files[]\" multiple disabled\n",
              "        style=\"border:none\" />\n",
              "     <output id=\"result-0e9b41dc-68b5-479b-bdd0-1fc959409463\">\n",
              "      Upload widget is only available when the cell has been executed in the\n",
              "      current browser session. Please rerun this cell to enable.\n",
              "      </output>\n",
              "      <script src=\"/nbextensions/google.colab/files.js\"></script> "
            ]
          },
          "metadata": {}
        },
        {
          "output_type": "stream",
          "name": "stdout",
          "text": [
            "Saving kaggle.json to kaggle.json\n"
          ]
        },
        {
          "output_type": "execute_result",
          "data": {
            "text/plain": [
              "{'kaggle.json': b'{\"username\":\"sandralparedes\",\"key\":\"746c1c655d0796973a3d3552fbcc97a5\"}'}"
            ]
          },
          "metadata": {},
          "execution_count": 2
        }
      ]
    },
    {
      "cell_type": "code",
      "execution_count": 3,
      "metadata": {
        "colab": {
          "base_uri": "https://localhost:8080/"
        },
        "id": "GXLwZ2Vnn7ge",
        "outputId": "c788d57f-881d-46d8-b62d-b9843fd13d7e"
      },
      "outputs": [
        {
          "output_type": "stream",
          "name": "stdout",
          "text": [
            "Mounted at /content/drive\n"
          ]
        }
      ],
      "source": [
        "from google.colab import drive\n",
        "drive.mount('/content/drive')"
      ],
      "id": "GXLwZ2Vnn7ge"
    },
    {
      "cell_type": "code",
      "source": [
        "! pwd\n",
        "! ls"
      ],
      "metadata": {
        "colab": {
          "base_uri": "https://localhost:8080/"
        },
        "id": "q0Zy3er5mJgR",
        "outputId": "f1dbadde-7458-4822-ed5e-b5feadf875f1"
      },
      "id": "q0Zy3er5mJgR",
      "execution_count": 4,
      "outputs": [
        {
          "output_type": "stream",
          "name": "stdout",
          "text": [
            "/content\n",
            "drive  kaggle.json  sample_data\n"
          ]
        }
      ]
    },
    {
      "cell_type": "code",
      "source": [
        "import zipfile\n",
        "import os\n",
        "\n",
        "os.environ['KAGGLE_CONFIG_DIR'] = \"/content\""
      ],
      "metadata": {
        "id": "As3njbbDmjAY"
      },
      "id": "As3njbbDmjAY",
      "execution_count": 5,
      "outputs": []
    },
    {
      "cell_type": "code",
      "source": [
        "! kaggle datasets download -d sovitrath/diabetic-retinopathy-2015-data-colored-resized"
      ],
      "metadata": {
        "colab": {
          "base_uri": "https://localhost:8080/"
        },
        "id": "jD2q1R_8movA",
        "outputId": "5bc1d32d-4ad2-4ce9-98e2-e218951ad9a7"
      },
      "id": "jD2q1R_8movA",
      "execution_count": 6,
      "outputs": [
        {
          "output_type": "stream",
          "name": "stdout",
          "text": [
            "Warning: Your Kaggle API key is readable by other users on this system! To fix this, you can run 'chmod 600 /content/kaggle.json'\n",
            "Downloading diabetic-retinopathy-2015-data-colored-resized.zip to /content\n",
            "100% 1.93G/1.94G [00:17<00:00, 145MB/s]\n",
            "100% 1.94G/1.94G [00:17<00:00, 116MB/s]\n"
          ]
        }
      ]
    },
    {
      "cell_type": "code",
      "source": [
        "# unzip kaggle file\n",
        "\n",
        "zip_ref = zipfile.ZipFile('diabetic-retinopathy-2015-data-colored-resized.zip', 'r') #Opens the zip file in read mode\n",
        "zip_ref.extractall('/tmp') #Extracts the files into the /tmp folder\n",
        "zip_ref.close()"
      ],
      "metadata": {
        "id": "8bszkBF7ndyj"
      },
      "id": "8bszkBF7ndyj",
      "execution_count": 7,
      "outputs": []
    },
    {
      "cell_type": "code",
      "source": [
        "# show number of classes and images\n",
        "\n",
        "source_images_path = '/tmp/colored_images/colored_images/'\n",
        "extracted_directories_path = os.listdir(source_images_path)\n",
        "\n",
        "for image_directory in extracted_directories_path:\n",
        "  print(image_directory, len(os.listdir(os.path.join(source_images_path, image_directory))))"
      ],
      "metadata": {
        "colab": {
          "base_uri": "https://localhost:8080/"
        },
        "id": "5Wqza8h6nqEY",
        "outputId": "82c4589f-db1e-4942-da69-5d465e82dce1"
      },
      "id": "5Wqza8h6nqEY",
      "execution_count": 8,
      "outputs": [
        {
          "output_type": "stream",
          "name": "stdout",
          "text": [
            "Proliferate_DR 708\n",
            "Mild 2443\n",
            "No_DR 25810\n",
            "Severe 873\n",
            "Moderate 5292\n"
          ]
        }
      ]
    },
    {
      "cell_type": "markdown",
      "metadata": {
        "id": "678fce99"
      },
      "source": [
        "## 2 | Exploratory Data Analysis"
      ],
      "id": "678fce99"
    },
    {
      "cell_type": "code",
      "source": [
        "# read in files and diagnosis label and store as dataframe\n",
        "\n",
        "filepath = '/tmp/colored_images/colored_images'\n",
        "dataframe = {'image_path':[],'diagnosis':[]}\n",
        "\n",
        "for diagnosis in os.listdir(filepath):\n",
        "    print(diagnosis)\n",
        "    if diagnosis != 'colored_images':        \n",
        "        for image in os.listdir(filepath +\"/\"+diagnosis):\n",
        "            if image != 'Dataset':\n",
        "                dataframe['image_path'].append(filepath +\"/\"+diagnosis+\"/\"+ image)\n",
        "                dataframe['diagnosis'].append(diagnosis)\n",
        "dataframe = pd.DataFrame(dataframe)  \n",
        "dataframe.info()\n",
        "dataframe.head(2)"
      ],
      "metadata": {
        "colab": {
          "base_uri": "https://localhost:8080/",
          "height": 355
        },
        "id": "Vs7otXFJke-S",
        "outputId": "8b4fecc0-0f3f-4b8b-acde-3e0445bc2c07"
      },
      "id": "Vs7otXFJke-S",
      "execution_count": 9,
      "outputs": [
        {
          "output_type": "stream",
          "name": "stdout",
          "text": [
            "Proliferate_DR\n",
            "Mild\n",
            "No_DR\n",
            "Severe\n",
            "Moderate\n",
            "<class 'pandas.core.frame.DataFrame'>\n",
            "RangeIndex: 35126 entries, 0 to 35125\n",
            "Data columns (total 2 columns):\n",
            " #   Column      Non-Null Count  Dtype \n",
            "---  ------      --------------  ----- \n",
            " 0   image_path  35126 non-null  object\n",
            " 1   diagnosis   35126 non-null  object\n",
            "dtypes: object(2)\n",
            "memory usage: 549.0+ KB\n"
          ]
        },
        {
          "output_type": "execute_result",
          "data": {
            "text/plain": [
              "                                                         image_path  \\\n",
              "0  /tmp/colored_images/colored_images/Proliferate_DR/10321_left.png   \n",
              "1  /tmp/colored_images/colored_images/Proliferate_DR/43997_left.png   \n",
              "\n",
              "        diagnosis  \n",
              "0  Proliferate_DR  \n",
              "1  Proliferate_DR  "
            ],
            "text/html": [
              "\n",
              "  <div id=\"df-94077bf2-7183-4c84-bf29-d585b4fc0f73\">\n",
              "    <div class=\"colab-df-container\">\n",
              "      <div>\n",
              "<style scoped>\n",
              "    .dataframe tbody tr th:only-of-type {\n",
              "        vertical-align: middle;\n",
              "    }\n",
              "\n",
              "    .dataframe tbody tr th {\n",
              "        vertical-align: top;\n",
              "    }\n",
              "\n",
              "    .dataframe thead th {\n",
              "        text-align: right;\n",
              "    }\n",
              "</style>\n",
              "<table border=\"1\" class=\"dataframe\">\n",
              "  <thead>\n",
              "    <tr style=\"text-align: right;\">\n",
              "      <th></th>\n",
              "      <th>image_path</th>\n",
              "      <th>diagnosis</th>\n",
              "    </tr>\n",
              "  </thead>\n",
              "  <tbody>\n",
              "    <tr>\n",
              "      <th>0</th>\n",
              "      <td>/tmp/colored_images/colored_images/Proliferate_DR/10321_left.png</td>\n",
              "      <td>Proliferate_DR</td>\n",
              "    </tr>\n",
              "    <tr>\n",
              "      <th>1</th>\n",
              "      <td>/tmp/colored_images/colored_images/Proliferate_DR/43997_left.png</td>\n",
              "      <td>Proliferate_DR</td>\n",
              "    </tr>\n",
              "  </tbody>\n",
              "</table>\n",
              "</div>\n",
              "      <button class=\"colab-df-convert\" onclick=\"convertToInteractive('df-94077bf2-7183-4c84-bf29-d585b4fc0f73')\"\n",
              "              title=\"Convert this dataframe to an interactive table.\"\n",
              "              style=\"display:none;\">\n",
              "        \n",
              "  <svg xmlns=\"http://www.w3.org/2000/svg\" height=\"24px\"viewBox=\"0 0 24 24\"\n",
              "       width=\"24px\">\n",
              "    <path d=\"M0 0h24v24H0V0z\" fill=\"none\"/>\n",
              "    <path d=\"M18.56 5.44l.94 2.06.94-2.06 2.06-.94-2.06-.94-.94-2.06-.94 2.06-2.06.94zm-11 1L8.5 8.5l.94-2.06 2.06-.94-2.06-.94L8.5 2.5l-.94 2.06-2.06.94zm10 10l.94 2.06.94-2.06 2.06-.94-2.06-.94-.94-2.06-.94 2.06-2.06.94z\"/><path d=\"M17.41 7.96l-1.37-1.37c-.4-.4-.92-.59-1.43-.59-.52 0-1.04.2-1.43.59L10.3 9.45l-7.72 7.72c-.78.78-.78 2.05 0 2.83L4 21.41c.39.39.9.59 1.41.59.51 0 1.02-.2 1.41-.59l7.78-7.78 2.81-2.81c.8-.78.8-2.07 0-2.86zM5.41 20L4 18.59l7.72-7.72 1.47 1.35L5.41 20z\"/>\n",
              "  </svg>\n",
              "      </button>\n",
              "      \n",
              "  <style>\n",
              "    .colab-df-container {\n",
              "      display:flex;\n",
              "      flex-wrap:wrap;\n",
              "      gap: 12px;\n",
              "    }\n",
              "\n",
              "    .colab-df-convert {\n",
              "      background-color: #E8F0FE;\n",
              "      border: none;\n",
              "      border-radius: 50%;\n",
              "      cursor: pointer;\n",
              "      display: none;\n",
              "      fill: #1967D2;\n",
              "      height: 32px;\n",
              "      padding: 0 0 0 0;\n",
              "      width: 32px;\n",
              "    }\n",
              "\n",
              "    .colab-df-convert:hover {\n",
              "      background-color: #E2EBFA;\n",
              "      box-shadow: 0px 1px 2px rgba(60, 64, 67, 0.3), 0px 1px 3px 1px rgba(60, 64, 67, 0.15);\n",
              "      fill: #174EA6;\n",
              "    }\n",
              "\n",
              "    [theme=dark] .colab-df-convert {\n",
              "      background-color: #3B4455;\n",
              "      fill: #D2E3FC;\n",
              "    }\n",
              "\n",
              "    [theme=dark] .colab-df-convert:hover {\n",
              "      background-color: #434B5C;\n",
              "      box-shadow: 0px 1px 3px 1px rgba(0, 0, 0, 0.15);\n",
              "      filter: drop-shadow(0px 1px 2px rgba(0, 0, 0, 0.3));\n",
              "      fill: #FFFFFF;\n",
              "    }\n",
              "  </style>\n",
              "\n",
              "      <script>\n",
              "        const buttonEl =\n",
              "          document.querySelector('#df-94077bf2-7183-4c84-bf29-d585b4fc0f73 button.colab-df-convert');\n",
              "        buttonEl.style.display =\n",
              "          google.colab.kernel.accessAllowed ? 'block' : 'none';\n",
              "\n",
              "        async function convertToInteractive(key) {\n",
              "          const element = document.querySelector('#df-94077bf2-7183-4c84-bf29-d585b4fc0f73');\n",
              "          const dataTable =\n",
              "            await google.colab.kernel.invokeFunction('convertToInteractive',\n",
              "                                                     [key], {});\n",
              "          if (!dataTable) return;\n",
              "\n",
              "          const docLinkHtml = 'Like what you see? Visit the ' +\n",
              "            '<a target=\"_blank\" href=https://colab.research.google.com/notebooks/data_table.ipynb>data table notebook</a>'\n",
              "            + ' to learn more about interactive tables.';\n",
              "          element.innerHTML = '';\n",
              "          dataTable['output_type'] = 'display_data';\n",
              "          await google.colab.output.renderOutput(dataTable, element);\n",
              "          const docLink = document.createElement('div');\n",
              "          docLink.innerHTML = docLinkHtml;\n",
              "          element.appendChild(docLink);\n",
              "        }\n",
              "      </script>\n",
              "    </div>\n",
              "  </div>\n",
              "  "
            ]
          },
          "metadata": {},
          "execution_count": 9
        }
      ]
    },
    {
      "cell_type": "markdown",
      "source": [
        "Data set n = 35,126"
      ],
      "metadata": {
        "id": "HRx23uUVzhLD"
      },
      "id": "HRx23uUVzhLD"
    },
    {
      "cell_type": "code",
      "execution_count": 10,
      "metadata": {
        "colab": {
          "base_uri": "https://localhost:8080/",
          "height": 409
        },
        "id": "9SYJaUP4H-Cs",
        "outputId": "dc133d96-89fe-46d6-f120-fd1c04ca381e"
      },
      "outputs": [
        {
          "output_type": "display_data",
          "data": {
            "text/plain": [
              "<Figure size 1080x432 with 1 Axes>"
            ],
            "image/png": "[encoded data removed]"
          },
          "metadata": {
            "image/png": {
              "width": 912,
              "height": 392
            },
            "needs_background": "light"
          }
        }
      ],
      "source": [
        "# distribution of five diagnosis classes in order of severity of disease\n",
        "\n",
        "plt.figure(figsize=(15,6))\n",
        "sns.barplot(dataframe.diagnosis.value_counts().index,\n",
        "            dataframe.diagnosis.value_counts(),\n",
        "            palette=None)\n",
        "plt.title(\"Distribution of Diabetic Retinopahty Diagnosis Classes\")\n",
        "plt.xlabel(\"Diagnosis\")\n",
        "plt.ylabel(\"Frequency\");\n"
      ],
      "id": "9SYJaUP4H-Cs"
    },
    {
      "cell_type": "markdown",
      "source": [
        "Classes are unbalanced"
      ],
      "metadata": {
        "id": "OGGX9W-lzlMS"
      },
      "id": "OGGX9W-lzlMS"
    },
    {
      "cell_type": "code",
      "execution_count": 11,
      "metadata": {
        "id": "5wM6uskkH-Cs",
        "colab": {
          "base_uri": "https://localhost:8080/",
          "height": 276
        },
        "outputId": "760626a8-9add-4d58-a919-0901f00cf759"
      },
      "outputs": [
        {
          "output_type": "stream",
          "name": "stdout",
          "text": [
            "No Diabetic Retinopthy\n",
            "Datatype: <class 'PIL.PngImagePlugin.PngImageFile'>\n"
          ]
        },
        {
          "output_type": "execute_result",
          "data": {
            "text/plain": [
              "<PIL.PngImagePlugin.PngImageFile image mode=RGB size=224x224 at 0x7F7EAAC50750>"
            ],
            "image/png": "[encoded data removed]"
          },
          "metadata": {},
          "execution_count": 11
        }
      ],
      "source": [
        "# view one healthy eye image\n",
        "\n",
        "path = '/tmp/colored_images/colored_images/No_DR/10003_left.png'\n",
        "\n",
        "healthy_image = tf.keras.preprocessing.image.load_img(\n",
        "   path,\n",
        "   grayscale=False, \n",
        "   color_mode=\"rgb\", \n",
        "  #  target_size=(256, 256),\n",
        "   interpolation=\"nearest\")\n",
        "\n",
        "print('No Diabetic Retinopthy')\n",
        "print('Datatype:', type(healthy_image))\n",
        "healthy_image \n"
      ],
      "id": "5wM6uskkH-Cs"
    },
    {
      "cell_type": "code",
      "execution_count": 12,
      "metadata": {
        "id": "jdQHTkYEH-Cs",
        "colab": {
          "base_uri": "https://localhost:8080/",
          "height": 276
        },
        "outputId": "10d084af-d599-469e-a844-e5647f7e292b"
      },
      "outputs": [
        {
          "output_type": "stream",
          "name": "stdout",
          "text": [
            "Proliferate Diabetic Retinopthy\n",
            "Datatype: <class 'PIL.PngImagePlugin.PngImageFile'>\n"
          ]
        },
        {
          "output_type": "execute_result",
          "data": {
            "text/plain": [
              "<PIL.PngImagePlugin.PngImageFile image mode=RGB size=224x224 at 0x7F7EAAC68B90>"
            ],
            "image/png": "[encoded data removed]"
          },
          "metadata": {},
          "execution_count": 12
        }
      ],
      "source": [
        "# view one proliferate DR image (most advanced stage of disease)\n",
        "\n",
        "path = '/tmp/colored_images/colored_images/Proliferate_DR/10017_left.png'\n",
        "\n",
        "proliferate_image = tf.keras.preprocessing.image.load_img(\n",
        "   path,\n",
        "   grayscale=False, \n",
        "   color_mode=\"rgb\", \n",
        "  #  target_size=(256, 256), \n",
        "   interpolation=\"nearest\")\n",
        "\n",
        "print('Proliferate Diabetic Retinopthy')\n",
        "print('Datatype:', type(proliferate_image))\n",
        "proliferate_image \n"
      ],
      "id": "jdQHTkYEH-Cs"
    },
    {
      "cell_type": "markdown",
      "source": [
        "### Validation Split"
      ],
      "metadata": {
        "id": "dGB1VbycEzd-"
      },
      "id": "dGB1VbycEzd-"
    },
    {
      "cell_type": "code",
      "source": [
        "# set up for train/test split\n",
        "\n",
        "temp_path = '/tmp'\n",
        "raw_data_dir_name = 'raw_data'\n",
        "train_data_dir_name = 'train'\n",
        "test_data_dir_name = 'test'\n",
        "raw_data_directories = [train_data_dir_name, test_data_dir_name]\n",
        "\n",
        "images_path =  os.path.join(temp_path, raw_data_dir_name)\n",
        "tmp_directories = os.listdir(temp_path)\n",
        "\n",
        "def build_raw_data_directory(parent, directory):\n",
        "  dir_path = os.path.join(parent, directory)\n",
        "  os.mkdir(dir_path)\n",
        "  for dir in extracted_directories_path:\n",
        "    os.mkdir(os.path.join(dir_path, dir))\n",
        "\n",
        "if raw_data_dir_name not in tmp_directories:\n",
        "  os.mkdir(images_path)\n",
        "  for directory in raw_data_directories:\n",
        "    build_raw_data_directory(images_path, directory)\n",
        "else:\n",
        "  print(raw_data_dir_name, \" already exist\")\n",
        "  images_path_directories = os.listdir(images_path)\n",
        "  for directory in raw_data_directories:\n",
        "    if directory not in images_path_directories:\n",
        "      build_raw_data_directory(images_path, directory)\n",
        "\n",
        "\n"
      ],
      "metadata": {
        "id": "kzKM7y_dOIkG"
      },
      "id": "kzKM7y_dOIkG",
      "execution_count": 14,
      "outputs": []
    },
    {
      "cell_type": "code",
      "source": [
        "# split data into train/test folders\n",
        "\n",
        "distribution = 0.2\n",
        "\n",
        "raw_data_path = os.path.join(temp_path, raw_data_dir_name)\n",
        "test_data_path_root = os.path.join(raw_data_path, test_data_dir_name)\n",
        "train_data_path_root = os.path.join(raw_data_path, train_data_dir_name)\n",
        "\n",
        "data_dirs = os.listdir(source_images_path)\n",
        "for dir in data_dirs:\n",
        "  path = os.path.join(source_images_path, dir)\n",
        "  test_data_path = os.path.join(test_data_path_root, dir)\n",
        "  train_data_path = os.path.join(train_data_path_root, dir)\n",
        "  images = os.listdir(path)\n",
        "  print(path, test_data_path)\n",
        "  for image in images:\n",
        "    random_number = random.uniform(0, 1)\n",
        "    is_test_image = random_number < distribution\n",
        "    source_image_path = os.path.join(path, image)\n",
        "    # shutil.copy(src, dst)\n",
        "    if is_test_image:\n",
        "      shutil.copy(source_image_path, test_data_path)\n",
        "      # print(source_image_path, \"goes to test\", test_data_path)\n",
        "    else:\n",
        "      shutil.copy(source_image_path, train_data_path)\n",
        "      # print(source_image_path, \"goes to train\", train_data_path)\n",
        "\n",
        "test_data_path_root = os.path.join(raw_data_path, test_data_dir_name)\n",
        "train_data_path_root = os.path.join(raw_data_path, train_data_dir_name)\n",
        "\n",
        "test_dirs = os.listdir(test_data_path_root)\n",
        "train_dirs = os.listdir(train_data_path_root)\n",
        "\n",
        "for dir in test_dirs:\n",
        "  path = os.path.join(test_data_path_root, dir)\n",
        "  files = os.listdir(path)\n",
        "  print(path, len(files))\n",
        "\n",
        "for dir in train_dirs:\n",
        "  path = os.path.join(train_data_path_root, dir)\n",
        "  files = os.listdir(path)\n",
        "  print(path, len(files))"
      ],
      "metadata": {
        "colab": {
          "base_uri": "https://localhost:8080/"
        },
        "id": "C-530XeBUQXs",
        "outputId": "a3830ae7-b46e-4a67-da5e-204cae4769ad"
      },
      "id": "C-530XeBUQXs",
      "execution_count": 15,
      "outputs": [
        {
          "output_type": "stream",
          "name": "stdout",
          "text": [
            "/tmp/colored_images/colored_images/Proliferate_DR /tmp/raw_data/test/Proliferate_DR\n",
            "/tmp/colored_images/colored_images/Mild /tmp/raw_data/test/Mild\n",
            "/tmp/colored_images/colored_images/No_DR /tmp/raw_data/test/No_DR\n",
            "/tmp/colored_images/colored_images/Severe /tmp/raw_data/test/Severe\n",
            "/tmp/colored_images/colored_images/Moderate /tmp/raw_data/test/Moderate\n",
            "/tmp/raw_data/test/Proliferate_DR 141\n",
            "/tmp/raw_data/test/Mild 471\n",
            "/tmp/raw_data/test/No_DR 5194\n",
            "/tmp/raw_data/test/Severe 181\n",
            "/tmp/raw_data/test/Moderate 1027\n",
            "/tmp/raw_data/train/Proliferate_DR 567\n",
            "/tmp/raw_data/train/Mild 1972\n",
            "/tmp/raw_data/train/No_DR 20616\n",
            "/tmp/raw_data/train/Severe 692\n",
            "/tmp/raw_data/train/Moderate 4265\n"
          ]
        }
      ]
    },
    {
      "cell_type": "markdown",
      "source": [
        "# Logistic Regression"
      ],
      "metadata": {
        "id": "DL1eAZLI4WhQ"
      },
      "id": "DL1eAZLI4WhQ"
    },
    {
      "cell_type": "code",
      "source": [
        "class_names = ['Proliferate_DR', 'Mild','No_DR', 'Severe', 'Moderate']\n",
        "class_names_label = {class_name:i for i, class_name in enumerate(class_names)}\n",
        "size = (224,224)\n",
        "num_classes = len(class_names)"
      ],
      "metadata": {
        "id": "bAlqoQeE4UfU"
      },
      "id": "bAlqoQeE4UfU",
      "execution_count": 16,
      "outputs": []
    },
    {
      "cell_type": "code",
      "source": [
        "\n",
        "\n",
        "def load_data(class_names):\n",
        "    \n",
        "    datasets = ['/tmp/raw_data/train', \n",
        "                '/tmp/raw_data/test']\n",
        "    output = []\n",
        "    \n",
        "    # Iterate through training and test set folders\n",
        "    for dataset in datasets:\n",
        "\n",
        "        images = []\n",
        "        labels = []\n",
        "        folders = os.listdir(dataset)\n",
        "        folders = [value for value in folders if value != \".DS_Store\"]\n",
        "        \n",
        "        print(\"Loading {}\".format(dataset))\n",
        "        \n",
        "        # Iterate through each folder corresponding to a category\n",
        "        for folder in folders:\n",
        "            label = class_names_label[folder]\n",
        "            \n",
        "            # Iterate through each image in the folder\n",
        "            for file in tqdm(os.listdir(os.path.join(dataset, folder))):\n",
        "\n",
        "                # Get the path name of the image\n",
        "                img_path = os.path.join(os.path.join(dataset, folder), file)\n",
        "\n",
        "                # Open and resize the image\n",
        "                image = cv2.imread(img_path)\n",
        "#                 image = cv2.cvtColor(image, cv2.COLOR_BGR2RGB)\n",
        "#                 image = cv2.resize(image, size) \n",
        "\n",
        "                # Append the image and its corresponding label to the output\n",
        "                images.append(image)\n",
        "                labels.append(label)\n",
        "                \n",
        "        images = np.array(images, dtype = None)\n",
        "        labels = np.array(labels, dtype = None)   \n",
        "        \n",
        "        output.append((images, labels))\n",
        "\n",
        "    return output"
      ],
      "metadata": {
        "id": "x4VmTxXD4UrF"
      },
      "id": "x4VmTxXD4UrF",
      "execution_count": 19,
      "outputs": []
    },
    {
      "cell_type": "code",
      "source": [
        "(train_images, train_labels), (test_images, test_labels) = load_data(class_names)\n"
      ],
      "metadata": {
        "colab": {
          "base_uri": "https://localhost:8080/"
        },
        "id": "20QnWkNP4Uxk",
        "outputId": "9a2b6af8-a199-479f-c03a-562978c1031e"
      },
      "id": "20QnWkNP4Uxk",
      "execution_count": 20,
      "outputs": [
        {
          "output_type": "stream",
          "name": "stdout",
          "text": [
            "Loading /tmp/raw_data/train\n"
          ]
        },
        {
          "output_type": "stream",
          "name": "stderr",
          "text": [
            "100%|██████████| 567/567 [00:00<00:00, 782.35it/s]\n",
            "100%|██████████| 1972/1972 [00:02<00:00, 834.52it/s]\n",
            "100%|██████████| 20616/20616 [00:23<00:00, 860.27it/s]\n",
            "100%|██████████| 692/692 [00:00<00:00, 883.20it/s]\n",
            "100%|██████████| 4265/4265 [00:04<00:00, 873.85it/s]\n"
          ]
        },
        {
          "output_type": "stream",
          "name": "stdout",
          "text": [
            "Loading /tmp/raw_data/test\n"
          ]
        },
        {
          "output_type": "stream",
          "name": "stderr",
          "text": [
            "100%|██████████| 141/141 [00:00<00:00, 916.45it/s]\n",
            "100%|██████████| 471/471 [00:00<00:00, 906.15it/s]\n",
            "100%|██████████| 5194/5194 [00:05<00:00, 903.12it/s]\n",
            "100%|██████████| 181/181 [00:00<00:00, 929.82it/s]\n",
            "100%|██████████| 1027/1027 [00:01<00:00, 882.36it/s]\n"
          ]
        }
      ]
    },
    {
      "cell_type": "code",
      "source": [
        "test_images = test_images.flatten()\n",
        "print('test images type:', type(test_images))\n",
        "print('test images shape:', test_images.shape)"
      ],
      "metadata": {
        "colab": {
          "base_uri": "https://localhost:8080/"
        },
        "id": "jR9Zamej4U6H",
        "outputId": "0ae6016b-3637-4b7a-d215-ea553b60e8e9"
      },
      "id": "jR9Zamej4U6H",
      "execution_count": 31,
      "outputs": [
        {
          "output_type": "stream",
          "name": "stdout",
          "text": [
            "test images type: <class 'numpy.ndarray'>\n",
            "test images shape: (1055803392,)\n"
          ]
        }
      ]
    },
    {
      "cell_type": "code",
      "source": [
        "train_images = train_images.flatten()\n",
        "print('train images type:', type(train_images))\n",
        "print('train images shape:', train_images.shape)"
      ],
      "metadata": {
        "colab": {
          "base_uri": "https://localhost:8080/"
        },
        "id": "PRd0LN854U1f",
        "outputId": "785ccbf4-2154-43f0-a9d1-42a852a579e4"
      },
      "id": "PRd0LN854U1f",
      "execution_count": 32,
      "outputs": [
        {
          "output_type": "stream",
          "name": "stdout",
          "text": [
            "train images type: <class 'numpy.ndarray'>\n",
            "train images shape: (4231643136,)\n"
          ]
        }
      ]
    },
    {
      "cell_type": "code",
      "source": [
        ""
      ],
      "metadata": {
        "id": "phj-q8Yj4VZI"
      },
      "id": "phj-q8Yj4VZI",
      "execution_count": null,
      "outputs": []
    },
    {
      "cell_type": "markdown",
      "metadata": {
        "id": "GwlHbfpL1JAH"
      },
      "source": [
        "## 3 | Deep Learning Model"
      ],
      "id": "GwlHbfpL1JAH"
    },
    {
      "cell_type": "markdown",
      "source": [
        "### Deep Learning First Model"
      ],
      "metadata": {
        "id": "oh0NfWeMwb4f"
      },
      "id": "oh0NfWeMwb4f"
    },
    {
      "cell_type": "markdown",
      "source": [
        "Code source: https://gist.github.com/fchollet/0830affa1f7f19fd47b06d4cf89ed44d "
      ],
      "metadata": {
        "id": "Di9VDJ555WHh"
      },
      "id": "Di9VDJ555WHh"
    },
    {
      "cell_type": "code",
      "source": [
        "img_width, img_height = 150, 150\n",
        "\n",
        "train_data_dir = 'data/train'\n",
        "validation_data_dir = 'data/validation'\n",
        "nb_train_samples = 2000\n",
        "nb_validation_samples = 800\n",
        "epochs = 50\n",
        "batch_size = 16"
      ],
      "metadata": {
        "id": "2YcpKfoF3qwZ"
      },
      "id": "2YcpKfoF3qwZ",
      "execution_count": null,
      "outputs": []
    },
    {
      "cell_type": "code",
      "source": [
        "if K.image_data_format() == 'channels_first':\n",
        "    input_shape = (3, img_width, img_height)\n",
        "else:\n",
        "    input_shape = (img_width, img_height, 3)"
      ],
      "metadata": {
        "id": "WBv-VnOP3qzS"
      },
      "id": "WBv-VnOP3qzS",
      "execution_count": null,
      "outputs": []
    },
    {
      "cell_type": "code",
      "execution_count": null,
      "metadata": {
        "id": "FjzZk4kvH-Cu"
      },
      "outputs": [],
      "source": [
        "model = Sequential()\n",
        "model.add(Conv2D(32, (3, 3), input_shape=input_shape))\n",
        "model.add(Activation('relu'))\n",
        "model.add(MaxPooling2D(pool_size=(2, 2)))\n",
        "\n",
        "model.add(Conv2D(32, (3, 3)))\n",
        "model.add(Activation('relu'))\n",
        "model.add(MaxPooling2D(pool_size=(2, 2)))\n",
        "\n",
        "model.add(Conv2D(64, (3, 3)))\n",
        "model.add(Activation('relu'))\n",
        "model.add(MaxPooling2D(pool_size=(2, 2)))\n",
        "\n",
        "model.add(Flatten())\n",
        "model.add(Dense(64))\n",
        "model.add(Activation('relu'))\n",
        "model.add(Dropout(0.5))\n",
        "model.add(Dense(1))\n",
        "model.add(Activation('sigmoid'))\n"
      ],
      "id": "FjzZk4kvH-Cu"
    },
    {
      "cell_type": "code",
      "source": [
        "model.compile(loss='binary_crossentropy',\n",
        "              optimizer='rmsprop',\n",
        "              metrics=['accuracy'])"
      ],
      "metadata": {
        "id": "uxuBD5Zx3q6S"
      },
      "id": "uxuBD5Zx3q6S",
      "execution_count": null,
      "outputs": []
    },
    {
      "cell_type": "code",
      "source": [
        "train_datagen = ImageDataGenerator(\n",
        "        rescale=1./255,\n",
        "        shear_range=0.2,\n",
        "        zoom_range=0.2,\n",
        "        horizontal_flip=True)\n",
        "\n",
        "test_datagen = ImageDataGenerator(rescale=1./255)\n",
        "\n",
        "train_generator = train_datagen.flow_from_directory(\n",
        "        '/tmp/raw_data/train',  \n",
        "        target_size=(150, 150), \n",
        "        batch_size=batch_size,\n",
        "        class_mode='binary')  \n",
        "\n",
        "validation_generator = test_datagen.flow_from_directory(\n",
        "        '/tmp/raw_data/test',\n",
        "        target_size=(150, 150),\n",
        "        batch_size=batch_size,\n",
        "        class_mode='binary')"
      ],
      "metadata": {
        "colab": {
          "base_uri": "https://localhost:8080/"
        },
        "id": "1x2C2Sl5zyW2",
        "outputId": "be8b065d-cbac-41e0-a36b-211d27a3b74f"
      },
      "id": "1x2C2Sl5zyW2",
      "execution_count": null,
      "outputs": [
        {
          "output_type": "stream",
          "name": "stdout",
          "text": [
            "Found 28095 images belonging to 5 classes.\n",
            "Found 7031 images belonging to 5 classes.\n"
          ]
        }
      ]
    },
    {
      "cell_type": "code",
      "source": [
        "model.fit_generator(\n",
        "        train_generator,\n",
        "        steps_per_epoch=nb_train_samples // batch_size,\n",
        "        epochs=5,\n",
        "        validation_data=validation_generator,\n",
        "        validation_steps=nb_validation_samples // batch_size\n",
        "        )\n",
        "\n",
        "model.save_weights('first_try.h5')  "
      ],
      "metadata": {
        "colab": {
          "base_uri": "https://localhost:8080/"
        },
        "id": "4P_8jaBwzyfH",
        "outputId": "bbeda49d-bcf3-4406-c67d-3815f97a94f3"
      },
      "id": "4P_8jaBwzyfH",
      "execution_count": null,
      "outputs": [
        {
          "output_type": "stream",
          "name": "stdout",
          "text": [
            "Epoch 1/5\n",
            "125/125 [==============================] - 15s 118ms/step - loss: -214507824.0000 - accuracy: 0.1370 - val_loss: -578096064.0000 - val_accuracy: 0.1825\n",
            "Epoch 2/5\n",
            "125/125 [==============================] - 14s 114ms/step - loss: -2003340928.0000 - accuracy: 0.1605 - val_loss: -4200994304.0000 - val_accuracy: 0.1275\n",
            "Epoch 3/5\n",
            "125/125 [==============================] - 15s 117ms/step - loss: -8443093504.0000 - accuracy: 0.1550 - val_loss: -14637317120.0000 - val_accuracy: 0.1587\n",
            "Epoch 4/5\n",
            "125/125 [==============================] - 14s 112ms/step - loss: -26486697984.0000 - accuracy: 0.1581 - val_loss: -39455670272.0000 - val_accuracy: 0.1625\n",
            "Epoch 5/5\n",
            "125/125 [==============================] - 14s 111ms/step - loss: -64640176128.0000 - accuracy: 0.1530 - val_loss: -94855258112.0000 - val_accuracy: 0.1550\n"
          ]
        }
      ]
    }
  ],
  "metadata": {
    "colab": {
      "collapsed_sections": [
        "d38894c8"
      ],
      "machine_shape": "hm",
      "name": "dl-diabetic-retinopathy-mvp.ipynb",
      "provenance": [],
      "include_colab_link": true
    },
    "gpuClass": "standard",
    "kernelspec": {
      "display_name": "Python 3 (deep_learning)",
      "language": "python",
      "name": "deep_learning"
    },
    "language_info": {
      "codemirror_mode": {
        "name": "ipython",
        "version": 3
      },
      "file_extension": ".py",
      "mimetype": "text/x-python",
      "name": "python",
      "nbconvert_exporter": "python",
      "pygments_lexer": "ipython3",
      "version": "3.8.12"
    },
    "accelerator": "GPU"
  },
  "nbformat": 4,
  "nbformat_minor": 5
}